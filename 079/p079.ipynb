{
 "cells": [
  {
   "cell_type": "code",
   "execution_count": 84,
   "metadata": {},
   "outputs": [],
   "source": [
    "def read_file():\n",
    "    keys = [list(str(int(line))) for line in open('keyring.txt')]\n",
    "    for sublist in keys:\n",
    "        for idx, item in enumerate(sublist):\n",
    "            sublist[idx] = int(item)\n",
    "    return keys\n",
    "\n",
    "keylog = read_file()"
   ]
  },
  {
   "cell_type": "code",
   "execution_count": 127,
   "metadata": {},
   "outputs": [
    {
     "data": {
      "text/plain": [
       "{0: set(),\n",
       " 1: {0, 2, 6, 8, 9},\n",
       " 2: {0, 8, 9},\n",
       " 3: {0, 1, 2, 6, 8, 9},\n",
       " 6: {0, 2, 8, 9},\n",
       " 7: {0, 1, 2, 3, 6, 8, 9},\n",
       " 8: {0, 9},\n",
       " 9: {0}}"
      ]
     },
     "execution_count": 127,
     "metadata": {},
     "output_type": "execute_result"
    }
   ],
   "source": [
    "def create_keymap(keylog):\n",
    "    keymap = {x:set() for x in range(10)}\n",
    "    found = set()\n",
    "    \n",
    "    # Create keymap based on keylog\n",
    "    for num in keylog:\n",
    "        for idx, val in enumerate(num[:-1]):\n",
    "            for j in num[idx+1:]:\n",
    "                keymap[val].add(j)\n",
    "                found.add(j)\n",
    "                found.add(val)\n",
    "    \n",
    "    # Remove numbers not in the keylog\n",
    "    for i in set(found).symmetric_difference(set(range(10))):\n",
    "        del keymap[i]\n",
    "    \n",
    "    return keymap"
   ]
  },
  {
   "cell_type": "code",
   "execution_count": 128,
   "metadata": {},
   "outputs": [],
   "source": [
    "def BFS(graph, first_v):\n",
    "    queue = [first_v]\n",
    "    visited = {i:False for i in range(10)}\n",
    "    parent = {i:None for i in range(10)}\n",
    "    \n",
    "    while queue:\n",
    "        print(queue)\n",
    "        s = queue[0]\n",
    "        queue = queue[1:]\n",
    "        \n",
    "        for n in graph[s]:\n",
    "            if not visited[n]:\n",
    "                visited[n] = True\n",
    "                queue.append(n)\n",
    "                parent[n] = s\n",
    "        \n",
    "    return parent"
   ]
  },
  {
   "cell_type": "code",
   "execution_count": 130,
   "metadata": {},
   "outputs": [
    {
     "name": "stdout",
     "output_type": "stream",
     "text": [
      "[6]\n",
      "[8, 0, 2, 9]\n",
      "[0, 2, 9]\n",
      "[2, 9]\n",
      "[9]\n",
      "0 6\n",
      "1 None\n",
      "2 6\n",
      "3 None\n",
      "4 None\n",
      "5 None\n",
      "6 None\n",
      "7 None\n",
      "8 6\n",
      "9 6\n"
     ]
    }
   ],
   "source": [
    "res = BFS(keymap, 6)\n",
    "\n",
    "for key, val in res.items():\n",
    "    print(key, val)"
   ]
  },
  {
   "cell_type": "code",
   "execution_count": 141,
   "metadata": {},
   "outputs": [
    {
     "name": "stdout",
     "output_type": "stream",
     "text": [
      "[0, 1, 2, 3, 4, 5, 6, 7, 8, 9]\n",
      "0\n"
     ]
    },
    {
     "data": {
      "text/plain": [
       "[1, 2, 3, 4, 5, 6, 7, 8, 9]"
      ]
     },
     "execution_count": 141,
     "metadata": {},
     "output_type": "execute_result"
    }
   ],
   "source": [
    "lst = list(range(10))\n",
    "lst\n",
    "print(lst)\n",
    "print(lst.pop(0))\n",
    "lst"
   ]
  }
 ],
 "metadata": {
  "kernelspec": {
   "display_name": "Python 3",
   "language": "python",
   "name": "python3"
  },
  "language_info": {
   "codemirror_mode": {
    "name": "ipython",
    "version": 3
   },
   "file_extension": ".py",
   "mimetype": "text/x-python",
   "name": "python",
   "nbconvert_exporter": "python",
   "pygments_lexer": "ipython3",
   "version": "3.7.4"
  }
 },
 "nbformat": 4,
 "nbformat_minor": 4
}
