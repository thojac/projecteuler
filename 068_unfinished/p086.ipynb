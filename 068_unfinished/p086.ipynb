{
 "cells": [
  {
   "cell_type": "markdown",
   "metadata": {},
   "source": [
    "## Problem 68 - Magic 5-gon ring\n",
    "\n",
    "Consider the following \"magic\" 3-gon ring, filled with the numbers 1 to 6, and each line adding to nine.\n",
    "\n",
    "![https://projecteuler.net/project/images/p068_1.png](https://projecteuler.net/project/images/p068_1.png)\n",
    "\n",
    "Working clockwise, and starting from the group of three with the numerically lowest external node (4,3,2 in this example), each solution can be described uniquely. For example, the above solution can be described by the set: 4,3,2; 6,2,1; 5,1,3.\n",
    "\n",
    "It is possible to complete the ring with four different totals: 9, 10, 11, and 12. There are eight solutions in total.\n",
    "\n",
    "Total\tSolution Set\n",
    "```\n",
    "9\t4,2,3; 5,3,1; 6,1,2\n",
    "9\t4,3,2; 6,2,1; 5,1,3\n",
    "10\t2,3,5; 4,5,1; 6,1,3\n",
    "10\t2,5,3; 6,3,1; 4,1,5\n",
    "11\t1,4,6; 3,6,2; 5,2,4\n",
    "11\t1,6,4; 5,4,2; 3,2,6\n",
    "12\t1,5,6; 2,6,4; 3,4,5\n",
    "12\t1,6,5; 3,5,4; 2,4,6\n",
    "```\n",
    "By concatenating each group it is possible to form 9-digit strings; the maximum string for a 3-gon ring is 432621513.\n",
    "\n",
    "Using the numbers 1 to 10, and depending on arrangements, it is possible to form 16- and 17-digit strings. What is the maximum 16-digit string for a \"magic\" 5-gon ring?\n",
    "\n",
    "![https://projecteuler.net/project/images/p068_2.png](https://projecteuler.net/project/images/p068_2.png)"
   ]
  },
  {
   "cell_type": "code",
   "execution_count": 1,
   "metadata": {},
   "outputs": [
    {
     "name": "stdout",
     "output_type": "stream",
     "text": [
      "[([(2, 5, 9), (4, 9, 3), (6, 3, 7), (8, 7, 1), (10, 1, 5)], 16, 2594936378711015), ([(2, 9, 5), (10, 5, 1), (8, 1, 7), (6, 7, 3), (4, 3, 9)], 16, 2951051817673439), ([(4, 3, 9), (2, 9, 5), (10, 5, 1), (8, 1, 7), (6, 7, 3)], 16, 4392951051817673), ([(4, 9, 3), (6, 3, 7), (8, 7, 1), (10, 1, 5), (2, 5, 9)], 16, 4936378711015259), ([(6, 3, 5), (7, 5, 2), (8, 2, 4), (9, 4, 1), (10, 1, 3)], 16, 6357528249411013), ([(6, 3, 7), (8, 7, 1), (10, 1, 5), (2, 5, 9), (4, 9, 3)], 16, 6378711015259493), ([(6, 5, 3), (10, 3, 1), (9, 1, 4), (8, 4, 2), (7, 2, 5)], 16, 6531031914842725), ([(6, 7, 3), (4, 3, 9), (2, 9, 5), (10, 5, 1), (8, 1, 7)], 16, 6734392951051817), ([(7, 2, 5), (6, 5, 3), (10, 3, 1), (9, 1, 4), (8, 4, 2)], 16, 7256531031914842), ([(7, 5, 2), (8, 2, 4), (9, 4, 1), (10, 1, 3), (6, 3, 5)], 16, 7528249411013635), ([(8, 1, 7), (6, 7, 3), (4, 3, 9), (2, 9, 5), (10, 5, 1)], 16, 8176734392951051), ([(8, 2, 4), (9, 4, 1), (10, 1, 3), (6, 3, 5), (7, 5, 2)], 16, 8249411013635752), ([(8, 4, 2), (7, 2, 5), (6, 5, 3), (10, 3, 1), (9, 1, 4)], 16, 8427256531031914), ([(8, 7, 1), (10, 1, 5), (2, 5, 9), (4, 9, 3), (6, 3, 7)], 16, 8711015259493637), ([(9, 1, 4), (8, 4, 2), (7, 2, 5), (6, 5, 3), (10, 3, 1)], 16, 9148427256531031), ([(9, 4, 1), (10, 1, 3), (6, 3, 5), (7, 5, 2), (8, 2, 4)], 16, 9411013635752824), ([(10, 1, 5), (2, 5, 9), (4, 9, 3), (6, 3, 7), (8, 7, 1)], 16, 1015259493637871), ([(10, 1, 3), (6, 3, 5), (7, 5, 2), (8, 2, 4), (9, 4, 1)], 16, 1013635752824941), ([(10, 3, 1), (9, 1, 4), (8, 4, 2), (7, 2, 5), (6, 5, 3)], 16, 1031914842725653), ([(10, 5, 1), (8, 1, 7), (6, 7, 3), (4, 3, 9), (2, 9, 5)], 16, 1051817673439295)]\n"
     ]
    }
   ],
   "source": [
    "from itertools import permutations\n",
    "\n",
    "def itr(n):\n",
    "    for p in permutations(range(1, n + 1)):\n",
    "        yield [p[i : i + 2] + p[(i + 3) % n : (i + 3) % n + 1] for i in range(0, n, 2)]\n",
    "        \n",
    "def to_number(res):\n",
    "    res = ''\n",
    "    for sublist in lst:\n",
    "        for item in sublist:\n",
    "            res += str(item)\n",
    "    return int(res), len(res)\n",
    "\n",
    "res = []        \n",
    "for lst in itr(10):\n",
    "    if all(x == sum(lst[0]) for x in [sum(i) for i in lst]):\n",
    "        num, l = to_number(lst)\n",
    "        if l == 16:\n",
    "            res.append((lst, l, num))\n",
    "        \n",
    "print(res)"
   ]
  },
  {
   "cell_type": "code",
   "execution_count": 2,
   "metadata": {},
   "outputs": [
    {
     "data": {
      "text/plain": [
       "([(10, 5, 1), (8, 1, 7), (6, 7, 3), (4, 3, 9), (2, 9, 5)],\n",
       " 16,\n",
       " 1051817673439295)"
      ]
     },
     "execution_count": 2,
     "metadata": {},
     "output_type": "execute_result"
    }
   ],
   "source": [
    "max(res)"
   ]
  },
  {
   "cell_type": "code",
   "execution_count": null,
   "metadata": {},
   "outputs": [],
   "source": []
  }
 ],
 "metadata": {
  "kernelspec": {
   "display_name": "Python 3",
   "language": "python",
   "name": "python3"
  },
  "language_info": {
   "codemirror_mode": {
    "name": "ipython",
    "version": 3
   },
   "file_extension": ".py",
   "mimetype": "text/x-python",
   "name": "python",
   "nbconvert_exporter": "python",
   "pygments_lexer": "ipython3",
   "version": "3.7.4"
  }
 },
 "nbformat": 4,
 "nbformat_minor": 4
}
