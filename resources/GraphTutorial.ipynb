{
 "cells": [
  {
   "cell_type": "code",
   "execution_count": 69,
   "metadata": {},
   "outputs": [],
   "source": [
    "class Node:\n",
    "    def __init__(self, value):\n",
    "        self.val = value\n",
    "        self.left = None\n",
    "        self.right = None\n",
    "        \n",
    "    def __repr__(self):\n",
    "        return f\"{self.val}, ({self.left}, {self.right})\"\n",
    "    \n",
    "class Tree:\n",
    "    def __init__(self):\n",
    "        self.root = None\n",
    "        \n",
    "    def get_root(self):\n",
    "        return self.root\n",
    "        \n",
    "    def add(self, val):\n",
    "        if self.root == None:\n",
    "            self.root = Node(val)\n",
    "        else:\n",
    "            self._add(val, self.root)\n",
    "    \n",
    "    def _add(self, val, node):\n",
    "        if val < node.val:\n",
    "            if node.left != None:\n",
    "                self._add(val, node.left)\n",
    "            else:\n",
    "                node.left = Node(val)\n",
    "        else:\n",
    "            if node.right != None:\n",
    "                self._add(val, node.right)\n",
    "            else:\n",
    "                node.right = Node(val)\n",
    "    \n",
    "    def __str__(self):\n",
    "        if self.root:\n",
    "            return self._print_tree(self.root)\n",
    "        else:\n",
    "            return \"<empty tree>\"\n",
    "            \n",
    "    # inorder\n",
    "    def _print_tree(self, root):\n",
    "        if root:\n",
    "            return self._print_tree(root.left) + ' ' + str(root.val) + ' ' + self._print_tree(root.right)\n",
    "        return ''"
   ]
  },
  {
   "cell_type": "code",
   "execution_count": 70,
   "metadata": {},
   "outputs": [
    {
     "name": "stdout",
     "output_type": "stream",
     "text": [
      "<empty tree>\n",
      " 20  30  40  50  60  70  80 \n"
     ]
    }
   ],
   "source": [
    "tree = Tree()\n",
    "print(tree)\n",
    "tree.add(50)\n",
    "tree.add(30)\n",
    "tree.add(20)\n",
    "tree.add(40)\n",
    "tree.add(70)\n",
    "tree.add(60)\n",
    "tree.add(80)\n",
    "print(tree)"
   ]
  },
  {
   "cell_type": "code",
   "execution_count": 117,
   "metadata": {},
   "outputs": [],
   "source": [
    "class Node:\n",
    "    def __init__(self, val):\n",
    "        self.val = val\n",
    "        self.neighbours = []\n",
    "        \n",
    "    def __repr__(self):\n",
    "        #return str((self.val, [str(i.val) for i in self.neighbours]))\n",
    "        return str(self.val)\n",
    "    \n",
    "    def __str__(self):\n",
    "        return str((self.val, [str(i.val) for i in self.neighbours]))\n",
    "    \n",
    "    def add_neighbours(self, lst):\n",
    "        [self.neighbours.append(i) for i in lst]\n",
    "        self.neighbours.sort()\n",
    "        \n",
    "    def __lt__(self, other):\n",
    "        return self.val < other.val\n",
    "        \n",
    "#    def __le__(self, a, b):\n",
    "#    def __eq__(self, a, b):\n",
    "#    def __ne__(self, a, b):\n",
    "#    def __ge__(self, a, b):\n",
    "#    def __gt__(self, a, b):"
   ]
  },
  {
   "cell_type": "code",
   "execution_count": 128,
   "metadata": {},
   "outputs": [],
   "source": [
    "# Nodes from https://www.youtube.com/watch?v=QRq6p9s8NVg\n",
    "A = Node('A')\n",
    "B = Node('B')\n",
    "C = Node('C')\n",
    "D = Node('D')\n",
    "E = Node('E')\n",
    "F = Node('F')\n",
    "G = Node('G')\n",
    "H = Node('H')\n",
    "S = Node('S')\n",
    "\n",
    "A.add_neighbours([B, S])\n",
    "B.add_neighbours([A])\n",
    "C.add_neighbours([S, F, D, E])\n",
    "D.add_neighbours([C])\n",
    "E.add_neighbours([C, H])\n",
    "F.add_neighbours([C, G])\n",
    "G.add_neighbours([S, F, H])\n",
    "H.add_neighbours([G, E])\n",
    "S.add_neighbours([A, C, G])\n",
    "\n",
    "graph = [A, B, C, D, E, F, G, H, S]"
   ]
  },
  {
   "cell_type": "code",
   "execution_count": 137,
   "metadata": {},
   "outputs": [],
   "source": [
    "def BFS(graph, start_v):\n",
    "    # Create a visited list, and a list of parents\n",
    "    visited = {vertex: False for vertex in graph}\n",
    "    parent = {vertex: None for vertex in graph}\n",
    "    \n",
    "    # Add start vertex to queue, and add it as visited\n",
    "    queue = [start_v]\n",
    "    visited[start_v] = True\n",
    "    \n",
    "    # Start traversing the graph\n",
    "    while queue:\n",
    "        s = queue[0]\n",
    "        queue = queue[1:]\n",
    "        print(s)\n",
    "        \n",
    "        for n in s.neighbours:\n",
    "            if not visited[n]:\n",
    "                queue.append(n)\n",
    "                visited[n] = True\n",
    "                parent[n] = s\n",
    "    return parent"
   ]
  },
  {
   "cell_type": "code",
   "execution_count": 138,
   "metadata": {},
   "outputs": [
    {
     "name": "stdout",
     "output_type": "stream",
     "text": [
      "('A', ['B', 'S'])\n",
      "('B', ['A'])\n",
      "('S', ['A', 'C', 'G'])\n",
      "('C', ['D', 'E', 'F', 'S'])\n",
      "('G', ['F', 'H', 'S'])\n",
      "('D', ['C'])\n",
      "('E', ['C', 'H'])\n",
      "('F', ['C', 'G'])\n",
      "('H', ['E', 'G'])\n"
     ]
    },
    {
     "data": {
      "text/plain": [
       "{A: None, B: A, C: S, D: C, E: C, F: C, G: S, H: G, S: A}"
      ]
     },
     "execution_count": 138,
     "metadata": {},
     "output_type": "execute_result"
    }
   ],
   "source": [
    "BFS(graph, A)"
   ]
  },
  {
   "cell_type": "code",
   "execution_count": 144,
   "metadata": {},
   "outputs": [],
   "source": [
    "N0 = Node('0')\n",
    "N1 = Node('1')\n",
    "N2 = Node('2')\n",
    "N3 = Node('3')\n",
    "N4 = Node('4')\n",
    "N5 = Node('5')\n",
    "N6 = Node('6')\n",
    "N7 = Node('7')\n",
    "\n",
    "N0.add_neighbours([])\n",
    "N1.add_neighbours([N3, N5, N6])\n",
    "N2.add_neighbours([N4])\n",
    "N3.add_neighbours([N1, N7])\n",
    "N4.add_neighbours([N2, N7])\n",
    "N5.add_neighbours([N1])\n",
    "N6.add_neighbours([N1, N7])\n",
    "N7.add_neighbours([N3, N4, N7])\n",
    "\n",
    "graph = [N0, N1, N2, N3, N4, N5, N6, N7]"
   ]
  },
  {
   "cell_type": "code",
   "execution_count": 145,
   "metadata": {},
   "outputs": [
    {
     "name": "stdout",
     "output_type": "stream",
     "text": [
      "('1', ['3', '5', '6'])\n",
      "('3', ['1', '7'])\n",
      "('5', ['1'])\n",
      "('6', ['1', '7'])\n",
      "('7', ['3', '4', '7'])\n",
      "('4', ['2', '7'])\n",
      "('2', ['4'])\n"
     ]
    }
   ],
   "source": [
    "res = BFS(graph, N1)"
   ]
  },
  {
   "cell_type": "code",
   "execution_count": 147,
   "metadata": {},
   "outputs": [
    {
     "name": "stdout",
     "output_type": "stream",
     "text": [
      "0 None\n",
      "1 None\n",
      "2 ('4', ['2', '7'])\n",
      "3 ('1', ['3', '5', '6'])\n",
      "4 ('7', ['3', '4', '7'])\n",
      "5 ('1', ['3', '5', '6'])\n",
      "6 ('1', ['3', '5', '6'])\n",
      "7 ('3', ['1', '7'])\n"
     ]
    }
   ],
   "source": [
    "for key, val in res.items():\n",
    "    print(key.val, val)"
   ]
  },
  {
   "cell_type": "markdown",
   "metadata": {},
   "source": [
    "# DFS"
   ]
  },
  {
   "cell_type": "code",
   "execution_count": 160,
   "metadata": {},
   "outputs": [],
   "source": [
    "N0 = Node('0')\n",
    "N1 = Node('1')\n",
    "N2 = Node('2')\n",
    "N3 = Node('3')\n",
    "N4 = Node('4')\n",
    "N5 = Node('5')\n",
    "N6 = Node('6')\n",
    "N7 = Node('7')\n",
    "\n",
    "N0.add_neighbours([N3, N4])\n",
    "N1.add_neighbours([N2, N5, N6])\n",
    "N2.add_neighbours([N1, N4])\n",
    "N3.add_neighbours([N0])\n",
    "N4.add_neighbours([N0, N2, N6, N7])\n",
    "N5.add_neighbours([N1, N7])\n",
    "N6.add_neighbours([N1, N4])\n",
    "N7.add_neighbours([N4, N5])\n",
    "\n",
    "graph = [N0, N1, N2, N3, N4, N5, N6, N7]"
   ]
  },
  {
   "cell_type": "code",
   "execution_count": 164,
   "metadata": {},
   "outputs": [
    {
     "name": "stdout",
     "output_type": "stream",
     "text": [
      "('0', ['3', '4'])\n",
      "('1', ['2', '5', '6'])\n",
      "('2', ['1', '4'])\n",
      "('3', ['0'])\n",
      "('4', ['0', '2', '6', '7'])\n",
      "('5', ['1', '7'])\n",
      "('6', ['1', '4'])\n",
      "('7', ['4', '5'])\n"
     ]
    }
   ],
   "source": [
    "for i in graph:\n",
    "    print(i)"
   ]
  },
  {
   "cell_type": "code",
   "execution_count": 175,
   "metadata": {},
   "outputs": [],
   "source": [
    "def DFS(graph, start_v):\n",
    "    # Create needed structures...\n",
    "    visited = {v : False for v in graph}\n",
    "    parent = {v : None for v in graph}\n",
    "    \n",
    "    # Add current one as visited\n",
    "    visited[start_v] = True\n",
    "    \n",
    "    # Start DFS\n",
    "    DFS_rec(graph, parent, visited, start_v)\n",
    "    return parent\n",
    "    \n",
    "def DFS_rec(graph, parent, visited, start_v):\n",
    "    for v in start_v.neighbours:\n",
    "        if not visited[v]:\n",
    "            visited[v] = True\n",
    "            parent[v] = start_v\n",
    "            DFS_rec(graph, parent, visited, v)\n",
    "            \n",
    "    "
   ]
  },
  {
   "cell_type": "code",
   "execution_count": 187,
   "metadata": {},
   "outputs": [
    {
     "name": "stdout",
     "output_type": "stream",
     "text": [
      "0 \t\t\t  ('4', ['0', '2', '6', '7'])\n",
      "1 \t\t\t  None\n",
      "2 \t\t\t  ('1', ['2', '5', '6'])\n",
      "3 \t\t\t  ('0', ['3', '4'])\n",
      "4 \t\t\t  ('2', ['1', '4'])\n",
      "5 \t\t\t  ('7', ['4', '5'])\n",
      "6 \t\t\t  ('4', ['0', '2', '6', '7'])\n",
      "7 \t\t\t  ('4', ['0', '2', '6', '7'])\n"
     ]
    }
   ],
   "source": [
    "res = DFS(graph, N1)\n",
    "\n",
    "for key, val in res.items():\n",
    "    print(key.val, \"\\t\\t\\t \", val)"
   ]
  },
  {
   "cell_type": "code",
   "execution_count": null,
   "metadata": {},
   "outputs": [],
   "source": []
  }
 ],
 "metadata": {
  "kernelspec": {
   "display_name": "Python 3",
   "language": "python",
   "name": "python3"
  },
  "language_info": {
   "codemirror_mode": {
    "name": "ipython",
    "version": 3
   },
   "file_extension": ".py",
   "mimetype": "text/x-python",
   "name": "python",
   "nbconvert_exporter": "python",
   "pygments_lexer": "ipython3",
   "version": "3.7.4"
  }
 },
 "nbformat": 4,
 "nbformat_minor": 4
}
