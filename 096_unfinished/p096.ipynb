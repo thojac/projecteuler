{
 "cells": [
  {
   "cell_type": "code",
   "execution_count": 39,
   "metadata": {},
   "outputs": [],
   "source": [
    "import numpy as np"
   ]
  },
  {
   "cell_type": "code",
   "execution_count": 148,
   "metadata": {},
   "outputs": [],
   "source": [
    "PUZZLE_FILE = 'p096_sudoku.txt'\n",
    "NUMBERS = {*list(range(1,10))}\n",
    "\n",
    "def read_file(filename):\n",
    "    puzzles = []\n",
    "    with open(filename) as file:\n",
    "        while True:\n",
    "            if file.readline() == '': break\n",
    "            puzzle = np.zeros(shape=(9,9))\n",
    "            for i in range(9):\n",
    "                puzzle[i] = [int(num) for num in file.readline().strip()]\n",
    "            puzzles.append(puzzle)\n",
    "    return puzzles"
   ]
  },
  {
   "cell_type": "code",
   "execution_count": 78,
   "metadata": {},
   "outputs": [],
   "source": [
    "puzzles = read_file(PUZZLE_FILE)\n",
    "puzzle = puzzles[0]"
   ]
  },
  {
   "cell_type": "code",
   "execution_count": 94,
   "metadata": {},
   "outputs": [],
   "source": [
    "def DFS(puzzle):\n",
    "    # Simply create a set of unvisited nodes (0 in them)\n",
    "    unvisited = set()\n",
    "    for i in range(9):\n",
    "        for j in range(9):\n",
    "            if not puzzle[i,j]:\n",
    "                unvisited.add((i,j))\n",
    "\n",
    "    if (DFS_rec(puzzle, unvisited)):\n",
    "        print(\"solved\")\n",
    "        print(unvisited)\n",
    "\n",
    "def DFS_rec(puzzle, unvisited):\n",
    "    current = unvisited.pop() # get first node \n",
    "    \n",
    "\n",
    "    "
   ]
  },
  {
   "cell_type": "code",
   "execution_count": 144,
   "metadata": {},
   "outputs": [
    {
     "name": "stdout",
     "output_type": "stream",
     "text": [
      "solved\n",
      "{(4, 7), (3, 0), (2, 8), (8, 0), (7, 7), (0, 7), (2, 1), (1, 6), (3, 7), (0, 3), (5, 1), (8, 5), (5, 8), (7, 2), (1, 2), (6, 7), (8, 1), (7, 6), (4, 4), (5, 0), (4, 1), (1, 1), (6, 4), (5, 4), (0, 0), (7, 1), (4, 5), (6, 0), (1, 4), (0, 5), (8, 7), (4, 2), (0, 8), (0, 1), (2, 7), (8, 3), (4, 6), (6, 8), (6, 1), (3, 1), (5, 7), (3, 8), (2, 0), (7, 4), (8, 8), (4, 3), (1, 7), (3, 4), (2, 4)}\n",
      "[[0. 0. 3. 0. 2. 0. 6. 0. 0.]\n",
      " [9. 0. 0. 3. 0. 5. 0. 0. 1.]\n",
      " [0. 0. 1. 8. 0. 6. 4. 0. 0.]\n",
      " [0. 0. 8. 1. 0. 2. 9. 0. 0.]\n",
      " [7. 0. 0. 0. 0. 0. 0. 0. 8.]\n",
      " [0. 0. 6. 7. 0. 8. 2. 0. 0.]\n",
      " [0. 0. 2. 6. 0. 9. 5. 0. 0.]\n",
      " [8. 0. 0. 2. 0. 3. 0. 0. 9.]\n",
      " [0. 0. 5. 0. 1. 0. 3. 0. 0.]]\n"
     ]
    }
   ],
   "source": [
    "puzzle = read_file(PUZZLE_FILE)[0]\n",
    "DFS(puzzle)\n",
    "print(puzzle)"
   ]
  },
  {
   "cell_type": "code",
   "execution_count": 161,
   "metadata": {},
   "outputs": [
    {
     "name": "stdout",
     "output_type": "stream",
     "text": [
      "row {0.0, 2.0, 3.0, 6.0}\n",
      "col {0.0, 9.0, 8.0, 7.0}\n",
      "sqr {0.0, 9.0, 3.0, 1.0}\n"
     ]
    },
    {
     "data": {
      "text/plain": [
       "{4, 5}"
      ]
     },
     "execution_count": 161,
     "metadata": {},
     "output_type": "execute_result"
    }
   ],
   "source": [
    "curr = (0,0)\n",
    "\n",
    "def get_column(i, j, puzzle):\n",
    "    return set(puzzle[:,j])\n",
    "\n",
    "def get_row(i,j, puzzle):\n",
    "    return set(puzzle[i,:])\n",
    "\n",
    "def get_square(i, j, puzzle):\n",
    "    di, dj = (i // 3) * 3, (j // 3) * 3\n",
    "    return set(puzzle[di:di+3,dj:dj+3].flatten())\n",
    "\n",
    "def get_possibilities(i, j, puzzle):\n",
    "    return NUMBERS - (get_row(i,j,puzzle) | get_column(i,j,puzzle) | get_square(i,j,puzzle))\n",
    "\n",
    "print('row', get_row(*(curr), puzzle))\n",
    "print('col', get_column(*(curr), puzzle))\n",
    "print('sqr', get_square(*(curr), puzzle))\n",
    "\n",
    "get_possibilities(*(curr), puzzle)"
   ]
  },
  {
   "cell_type": "code",
   "execution_count": 147,
   "metadata": {},
   "outputs": [
    {
     "data": {
      "text/plain": [
       "{1, 2, 3, 4, 5, 6, 7, 8, 9}"
      ]
     },
     "execution_count": 147,
     "metadata": {},
     "output_type": "execute_result"
    }
   ],
   "source": []
  },
  {
   "cell_type": "code",
   "execution_count": 163,
   "metadata": {},
   "outputs": [
    {
     "name": "stdout",
     "output_type": "stream",
     "text": [
      "[[0. 0. 3. 0. 2. 0. 6. 0. 0.]\n",
      " [9. 0. 0. 3. 0. 5. 0. 0. 1.]\n",
      " [0. 0. 1. 8. 0. 6. 4. 0. 0.]\n",
      " [0. 0. 8. 1. 0. 2. 9. 0. 0.]\n",
      " [7. 0. 0. 0. 0. 0. 0. 0. 8.]\n",
      " [0. 0. 6. 7. 0. 8. 2. 0. 0.]\n",
      " [0. 0. 2. 6. 0. 9. 5. 0. 0.]\n",
      " [8. 0. 0. 2. 0. 3. 0. 0. 9.]\n",
      " [0. 0. 5. 0. 1. 0. 3. 0. 0.]]\n"
     ]
    },
    {
     "data": {
      "text/plain": [
       "{4, 5}"
      ]
     },
     "execution_count": 163,
     "metadata": {},
     "output_type": "execute_result"
    }
   ],
   "source": [
    "def get_column(i, j, puzzle):\n",
    "    return set(puzzle[:,j])\n",
    "\n",
    "def get_row(i,j, puzzle):\n",
    "    return set(puzzle[i,:])\n",
    "\n",
    "def get_square(i, j, puzzle):\n",
    "    di, dj = (i // 3) * 3, (j // 3) * 3\n",
    "    return set(puzzle[di:di+3,dj:dj+3].flatten())\n",
    "\n",
    "def get_possibilities(i, j, puzzle):\n",
    "    return NUMBERS - (get_row(i,j,puzzle) | get_column(i,j,puzzle) | get_square(i,j,puzzle))\n",
    "\n",
    "print(puzzle)\n",
    "get_possibilities(0,0,puzzle)"
   ]
  },
  {
   "cell_type": "code",
   "execution_count": null,
   "metadata": {},
   "outputs": [],
   "source": []
  }
 ],
 "metadata": {
  "kernelspec": {
   "display_name": "Python 3",
   "language": "python",
   "name": "python3"
  },
  "language_info": {
   "codemirror_mode": {
    "name": "ipython",
    "version": 3
   },
   "file_extension": ".py",
   "mimetype": "text/x-python",
   "name": "python",
   "nbconvert_exporter": "python",
   "pygments_lexer": "ipython3",
   "version": "3.7.4"
  }
 },
 "nbformat": 4,
 "nbformat_minor": 4
}
