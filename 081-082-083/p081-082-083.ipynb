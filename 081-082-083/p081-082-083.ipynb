{
 "cells": [
  {
   "cell_type": "code",
   "execution_count": 3,
   "metadata": {},
   "outputs": [],
   "source": [
    "from collections import defaultdict\n",
    "import heapq\n",
    "import numpy as np"
   ]
  },
  {
   "cell_type": "code",
   "execution_count": 4,
   "metadata": {},
   "outputs": [],
   "source": [
    "SMALL_MATRIX = 'small_matrix.txt'\n",
    "LARGE_MATRIX = 'large_matrix.txt'\n",
    "UP, DOWN, LEFT, RIGHT = (-1,0), (1,0), (0,-1), (0,1)"
   ]
  },
  {
   "cell_type": "code",
   "execution_count": 5,
   "metadata": {},
   "outputs": [],
   "source": [
    "def read_file(filename):\n",
    "    matrix = []\n",
    "    with open(filename) as file:\n",
    "        for line in file:\n",
    "            matrix.append([int(x) for x in line.split(',')])\n",
    "    return np.asarray(matrix)"
   ]
  },
  {
   "cell_type": "markdown",
   "metadata": {},
   "source": [
    "# Solution for 081-082-083 with Dijkstra"
   ]
  },
  {
   "cell_type": "code",
   "execution_count": 6,
   "metadata": {},
   "outputs": [],
   "source": [
    "def get_neighbours(i, j, directions, matrix):\n",
    "    neighbours = []\n",
    "    for di, dj in directions:\n",
    "        try:\n",
    "            neighbours.append((matrix[i+di][j+dj], (i+di, j+dj)))\n",
    "        except IndexError:\n",
    "            continue\n",
    "    return neighbours"
   ]
  },
  {
   "cell_type": "code",
   "execution_count": 7,
   "metadata": {},
   "outputs": [],
   "source": [
    "# Matrix implementation of dijkstra\n",
    "def dijkstra(matrix, source, target, directions):\n",
    "    # Create data structures needed\n",
    "    queue = [(matrix[source],source,())] # nodes need to process\n",
    "    seen = set() # set (O(1) lookup) of seen nodes\n",
    "    mins = {source: 0} # dict with min path dist from source\n",
    "    \n",
    "    if not isinstance(target, set):\n",
    "        target = {target}\n",
    "    \n",
    "    while queue:\n",
    "        # Pop node in queue with smallest cost\n",
    "        cost, v1, path = heapq.heappop(queue) # num, (i, j), pathlist\n",
    "        \n",
    "        # Process it if not seen yet\n",
    "        if v1 not in seen:\n",
    "            seen.add(v1) # add as seen\n",
    "            path = (v1, *path) # and update path\n",
    "            \n",
    "            # Finished if v1 is target\n",
    "            if v1 in target: \n",
    "                return (cost, path)\n",
    "\n",
    "            # If not, we need to process v1's neighbours\n",
    "            for c, v2 in get_neighbours(*v1, directions, matrix):\n",
    "                \n",
    "                # Only process if not seen before\n",
    "                if v2 not in seen:\n",
    "                    \n",
    "                    prev = mins.get(v2, None)\n",
    "                    nextt = cost + c\n",
    "                    \n",
    "                    if prev is None or nextt < prev:\n",
    "                        mins[v2] = nextt\n",
    "                        heapq.heappush(queue, (nextt, v2, path))\n",
    "\n",
    "    return (-1, ())"
   ]
  },
  {
   "cell_type": "code",
   "execution_count": 8,
   "metadata": {},
   "outputs": [
    {
     "name": "stdout",
     "output_type": "stream",
     "text": [
      "42 ms ± 1.84 ms per loop (mean ± std. dev. of 7 runs, 10 loops each)\n"
     ]
    }
   ],
   "source": [
    "def solve_p81():\n",
    "    matrix = read_file(LARGE_MATRIX)\n",
    "    l = len(matrix) - 1\n",
    "    return dijkstra(matrix, (0,0), (l,l), (RIGHT, DOWN))\n",
    "\n",
    "print(solve_p81)\n",
    "%timeit solve_p81()"
   ]
  },
  {
   "cell_type": "code",
   "execution_count": 17,
   "metadata": {},
   "outputs": [
    {
     "name": "stdout",
     "output_type": "stream",
     "text": [
      "260324\n",
      "3.83 s ± 51.6 ms per loop (mean ± std. dev. of 7 runs, 1 loop each)\n"
     ]
    }
   ],
   "source": [
    "def solve_p82():\n",
    "    matrix = read_file(LARGE_MATRIX)\n",
    "    l = len(matrix) - 1\n",
    "    targets = {(idx,l) for idx in range(len(matrix))}\n",
    "    return min([dijkstra(matrix, (idx,0), targets, (RIGHT, UP, DOWN)) for idx in range(len(matrix))])\n",
    "    \n",
    "print(solve_p82()[0])\n",
    "%timeit solve_p82()"
   ]
  },
  {
   "cell_type": "code",
   "execution_count": 18,
   "metadata": {},
   "outputs": [
    {
     "name": "stdout",
     "output_type": "stream",
     "text": [
      "425185\n",
      "246 ms ± 8.68 ms per loop (mean ± std. dev. of 7 runs, 1 loop each)\n"
     ]
    }
   ],
   "source": [
    "def solve_p83():\n",
    "    matrix = read_file(LARGE_MATRIX)\n",
    "    l = len(matrix) - 1\n",
    "    return dijkstra(matrix, (0,0), (l,l), (RIGHT, LEFT, UP, DOWN))\n",
    "\n",
    "print(solve_p83()[0])\n",
    "%timeit solve_p83()"
   ]
  },
  {
   "cell_type": "markdown",
   "metadata": {},
   "source": [
    "# Solution for p081, calculating min path through matrix"
   ]
  },
  {
   "cell_type": "code",
   "execution_count": 13,
   "metadata": {},
   "outputs": [
    {
     "name": "stdout",
     "output_type": "stream",
     "text": [
      "14.8 ms ± 189 µs per loop (mean ± std. dev. of 7 runs, 100 loops each)\n"
     ]
    }
   ],
   "source": [
    "def find_min_path(matrix):\n",
    "    cost_matrix = np.zeros(shape=(len(matrix), len(matrix)))\n",
    "    cost_matrix[0][0] = matrix[0][0]\n",
    "    \n",
    "    # Start with finding cost of first row and first column\n",
    "    for i in range(1,len(matrix)):\n",
    "        cost_matrix[0][i] = cost_matrix[0][i-1] + matrix[0][i]\n",
    "        cost_matrix[i][0] = cost_matrix[i-1][0] + matrix[i][0]\n",
    "    \n",
    "    # Then loop rest of the two matrixes...\n",
    "    for i in range(1, len(matrix)):\n",
    "        for j in range(1, len(matrix)):\n",
    "            cost_matrix[i][j] = min(cost_matrix[i-1][j], cost_matrix[i][j-1]) + matrix[i][j]\n",
    "            \n",
    "    return cost_matrix\n",
    "\n",
    "def solve():\n",
    "    matrix = read_file(LARGE_MATRIX)\n",
    "    return int(find_min_path(matrix)[-1][-1])\n",
    "\n",
    "%timeit solve()"
   ]
  },
  {
   "cell_type": "markdown",
   "metadata": {},
   "source": [
    "# Solution for p082, using edges and graph in dictionary instead of using matrix + get_neigbours()"
   ]
  },
  {
   "cell_type": "code",
   "execution_count": 20,
   "metadata": {},
   "outputs": [],
   "source": [
    "def create_edges(matrix):\n",
    "    num_to_idx = {}\n",
    "    idx_to_num = {}\n",
    "    edges = []\n",
    "    \n",
    "    # Create a mapping from unique number to idx, and vice versa\n",
    "    counter = 1\n",
    "    for idx, x in enumerate(matrix):\n",
    "        for idy, y in enumerate(x):\n",
    "            num_to_idx[counter] = (idx, idy)\n",
    "            idx_to_num[(idx,idy)] = counter\n",
    "            counter += 1\n",
    "    \n",
    "    # Create all edges pointing to the right\n",
    "    for i in range(len(matrix)):\n",
    "        for j in range(len(matrix)-1):\n",
    "            f = idx_to_num[i,j]\n",
    "            t = idx_to_num[i,j+1]\n",
    "            c = matrix[i,j+1]\n",
    "            edges.append((f,t,c))\n",
    "    \n",
    "    # Create all edges pointing down\n",
    "    for i in range(len(matrix) - 1):\n",
    "        for j in range(1, len(matrix)-1):\n",
    "            f = idx_to_num[i,j]\n",
    "            t = idx_to_num[i+1,j]\n",
    "            c = matrix[i+1,j]\n",
    "            edges.append((f,t,c))\n",
    "            \n",
    "    # Create all edges pointing up\n",
    "    for i in range(1, len(matrix)):\n",
    "        for j in range(1, len(matrix)-1):\n",
    "            f = idx_to_num[i,j]\n",
    "            t = idx_to_num[i-1,j]\n",
    "            c = matrix[i-1,j]\n",
    "            edges.append((f,t,c))\n",
    "            \n",
    "    # And lastly create two extra edges for start and end:\n",
    "    for i in range(len(matrix)):\n",
    "        edges.append((0, idx_to_num[i, 0], matrix[i][0]))\n",
    "        edges.append((idx_to_num[i,len(matrix)-1], -1, 0))\n",
    "        \n",
    "    return edges"
   ]
  },
  {
   "cell_type": "code",
   "execution_count": 35,
   "metadata": {},
   "outputs": [],
   "source": [
    "# Graph implementation of dijkstra\n",
    "def dijkstra_graph(edges, source, target):\n",
    "    g = defaultdict(list)\n",
    "    for l,r,c in edges:\n",
    "        g[l].append((c,r))\n",
    "\n",
    "    # Create data structures needed\n",
    "    queue = [(0,source,())] # nodes need to process\n",
    "    seen = set() # set (O(1) lookup) of seen nodes\n",
    "    mins = {source: 0} # dict with min path dist from source\n",
    "    \n",
    "    while queue:\n",
    "        # Pop node in queue with smallest cost\n",
    "        cost, v1, path = heapq.heappop(queue) # num, (i, j), pathlist\n",
    "        \n",
    "        # Process it if not seen yet\n",
    "        if v1 not in seen:\n",
    "            seen.add(v1) # add as seen\n",
    "            path = (v1, *path) # and update path\n",
    "            \n",
    "            # Finished if v1 is target\n",
    "            if v1 == target: \n",
    "                return (cost, path)\n",
    "\n",
    "            # If not, we need to process v1's neighbours\n",
    "            for c, v2 in g.get(v1,None):\n",
    "                \n",
    "                # Only process if not seen before\n",
    "                if v2 not in seen:\n",
    "                    prev = mins.get(v2, None)\n",
    "                    nextt = cost + c\n",
    "                    \n",
    "                    if prev is None or nextt < prev:\n",
    "                        mins[v2] = nextt\n",
    "                        heapq.heappush(queue, (nextt, v2, path))\n",
    "\n",
    "    return (-1, ())\n",
    "\n",
    "def solve_p82_graph():\n",
    "    return dijkstra_graph(create_edges(read_file(LARGE_MATRIX)), 0, -1)[0]\n",
    "    "
   ]
  },
  {
   "cell_type": "code",
   "execution_count": 36,
   "metadata": {},
   "outputs": [
    {
     "name": "stdout",
     "output_type": "stream",
     "text": [
      "260324\n",
      "39.2 ms ± 859 µs per loop (mean ± std. dev. of 7 runs, 10 loops each)\n"
     ]
    }
   ],
   "source": [
    "print(solve_p82_graph())\n",
    "%timeit solve_p82_graph()"
   ]
  },
  {
   "cell_type": "code",
   "execution_count": null,
   "metadata": {},
   "outputs": [],
   "source": []
  }
 ],
 "metadata": {
  "kernelspec": {
   "display_name": "Python 3",
   "language": "python",
   "name": "python3"
  },
  "language_info": {
   "codemirror_mode": {
    "name": "ipython",
    "version": 3
   },
   "file_extension": ".py",
   "mimetype": "text/x-python",
   "name": "python",
   "nbconvert_exporter": "python",
   "pygments_lexer": "ipython3",
   "version": "3.7.4"
  }
 },
 "nbformat": 4,
 "nbformat_minor": 4
}
