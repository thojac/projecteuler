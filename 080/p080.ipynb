{
 "cells": [
  {
   "cell_type": "markdown",
   "metadata": {},
   "source": [
    "Problem 80\n",
    "==========\n",
    "\n",
    "It is well known that if the square root of a natural number is not an\n",
    "integer, then it is irrational. The decimal expansion of such square roots\n",
    "is infinite without any repeating pattern at all.\n",
    "\n",
    "The square root of two is 1.41421356237309504880..., and the digital sum\n",
    "of the first one hundred decimal digits is 475.\n",
    "\n",
    "For the first one hundred natural numbers, find the total of the digital\n",
    "sums of the first one hundred decimal digits for all the irrational square\n",
    "roots.\n",
    "\n",
    "Successfully created the directory /Users/cdr/Dropbox/Projects/projecteuler/080 "
   ]
  },
  {
   "cell_type": "code",
   "execution_count": 150,
   "metadata": {},
   "outputs": [
    {
     "name": "stdout",
     "output_type": "stream",
     "text": [
      "CPU times: user 1.72 ms, sys: 0 ns, total: 1.72 ms\n",
      "Wall time: 1.73 ms\n"
     ]
    },
    {
     "data": {
      "text/plain": [
       "40886"
      ]
     },
     "execution_count": 150,
     "metadata": {},
     "output_type": "execute_result"
    }
   ],
   "source": [
    "from decimal import *\n",
    "getcontext().prec = 102\n",
    "\n",
    "def solve():\n",
    "    summ = 0\n",
    "    for num in range(100):\n",
    "        dec = Decimal(num).sqrt().as_tuple().digits[:100]\n",
    "        if len(dec) == 100:\n",
    "            summ += sum(dec)\n",
    "    return summ\n",
    "\n",
    "%time solve()"
   ]
  }
 ],
 "metadata": {
  "kernelspec": {
   "display_name": "Python 3",
   "language": "python",
   "name": "python3"
  },
  "language_info": {
   "codemirror_mode": {
    "name": "ipython",
    "version": 3
   },
   "file_extension": ".py",
   "mimetype": "text/x-python",
   "name": "python",
   "nbconvert_exporter": "python",
   "pygments_lexer": "ipython3",
   "version": "3.7.4"
  }
 },
 "nbformat": 4,
 "nbformat_minor": 4
}
