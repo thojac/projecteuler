{
 "cells": [
  {
   "cell_type": "markdown",
   "metadata": {},
   "source": [
    "Problem 85\n",
    "==========\n",
    "\n",
    "By counting carefully it can be seen that a rectangular grid measuring 3\n",
    "by 2 contains eighteen rectangles:\n",
    "\n",
    "![https://projecteuler.net/project/images/p085.png](https://projecteuler.net/project/images/p085.png)\n",
    "\n",
    "Although there exists no rectangular grid that contains exactly two\n",
    "million rectangles, find the area of the grid with the nearest solution."
   ]
  },
  {
   "cell_type": "code",
   "execution_count": 47,
   "metadata": {},
   "outputs": [
    {
     "name": "stdout",
     "output_type": "stream",
     "text": [
      "1.99 ms ± 47.7 µs per loop (mean ± std. dev. of 7 runs, 100 loops each)\n"
     ]
    }
   ],
   "source": [
    "from itertools import combinations\n",
    "\n",
    "def num_sub_rectangles(x, y):\n",
    "    return (x * y * (x + 1) * (y + 1)) // 4\n",
    "\n",
    "def solve(n):\n",
    "    x, y, closest = 0, 0, n\n",
    "    for i, j in combinations(range(1, 100), 2):\n",
    "        res = abs(num_sub_rectangles(i,j) - n)\n",
    "        if res < closest:\n",
    "            x, y, closest = i, j, res\n",
    "    \n",
    "    return x * y\n",
    "           \n",
    "%timeit solve(2000000)"
   ]
  },
  {
   "cell_type": "code",
   "execution_count": null,
   "metadata": {},
   "outputs": [],
   "source": []
  }
 ],
 "metadata": {
  "kernelspec": {
   "display_name": "Python 3",
   "language": "python",
   "name": "python3"
  },
  "language_info": {
   "codemirror_mode": {
    "name": "ipython",
    "version": 3
   },
   "file_extension": ".py",
   "mimetype": "text/x-python",
   "name": "python",
   "nbconvert_exporter": "python",
   "pygments_lexer": "ipython3",
   "version": "3.7.4"
  }
 },
 "nbformat": 4,
 "nbformat_minor": 4
}
